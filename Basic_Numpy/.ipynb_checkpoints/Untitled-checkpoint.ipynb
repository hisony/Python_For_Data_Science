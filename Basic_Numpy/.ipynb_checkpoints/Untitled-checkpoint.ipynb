{
 "cells": [
  {
   "cell_type": "code",
   "execution_count": 9,
   "id": "8405b386-d5e0-4c96-b4b4-2c36b4e8ca1a",
   "metadata": {},
   "outputs": [
    {
     "name": "stdout",
     "output_type": "stream",
     "text": [
      "sony\n"
     ]
    }
   ],
   "source": [
    "print(\"sony\")"
   ]
  },
  {
   "cell_type": "code",
   "execution_count": 10,
   "id": "3603d34b-40ec-42d6-94cb-5108c18879d8",
   "metadata": {},
   "outputs": [
    {
     "name": "stdout",
     "output_type": "stream",
     "text": [
      "11\n"
     ]
    }
   ],
   "source": [
    "print(5+6)"
   ]
  },
  {
   "cell_type": "code",
   "execution_count": 11,
   "id": "9298e9b4-dc59-4f69-b241-9ff8e9dafa61",
   "metadata": {},
   "outputs": [],
   "source": [
    "import numpy as np"
   ]
  },
  {
   "cell_type": "code",
   "execution_count": 12,
   "id": "5543222f-fc52-4978-beeb-056d999112d8",
   "metadata": {},
   "outputs": [
    {
     "data": {
      "text/plain": [
       "[1, 2, 3]"
      ]
     },
     "execution_count": 12,
     "metadata": {},
     "output_type": "execute_result"
    }
   ],
   "source": [
    "my_list=[1,2,3]\n",
    "\n",
    "my_list"
   ]
  },
  {
   "cell_type": "code",
   "execution_count": 19,
   "id": "b8b3b94b-ed09-4e7e-9e54-82e7dfa549d9",
   "metadata": {},
   "outputs": [
    {
     "data": {
      "text/plain": [
       "[[1, 2, 3], [4, 5, 6]]"
      ]
     },
     "execution_count": 19,
     "metadata": {},
     "output_type": "execute_result"
    }
   ],
   "source": [
    "my_matrix=[[1,2,3],[4,5,6]]\n",
    "\n",
    "my_matrix"
   ]
  },
  {
   "cell_type": "code",
   "execution_count": 21,
   "id": "ca194926-7ddd-450e-991e-e5b06e8d5138",
   "metadata": {},
   "outputs": [
    {
     "data": {
      "text/plain": [
       "array([[1, 2, 3],\n",
       "       [4, 5, 6]])"
      ]
     },
     "execution_count": 21,
     "metadata": {},
     "output_type": "execute_result"
    }
   ],
   "source": [
    "matrix_one=np.array(my_matrix)\n",
    "matrix_one"
   ]
  },
  {
   "cell_type": "code",
   "execution_count": 23,
   "id": "fa56e1d4-1cc4-48a1-9a58-011bde334096",
   "metadata": {},
   "outputs": [
    {
     "data": {
      "text/plain": [
       "(2, 3)"
      ]
     },
     "execution_count": 23,
     "metadata": {},
     "output_type": "execute_result"
    }
   ],
   "source": [
    "matrix_one.shape"
   ]
  },
  {
   "cell_type": "code",
   "execution_count": 25,
   "id": "0f092c75-50b6-47fc-a0b0-da0e02577138",
   "metadata": {},
   "outputs": [
    {
     "data": {
      "text/plain": [
       "(array([1, 3, 5, 6]), numpy.ndarray)"
      ]
     },
     "execution_count": 25,
     "metadata": {},
     "output_type": "execute_result"
    }
   ],
   "source": [
    "my_tuple=(1,3,5,6)\n",
    "my_array=np.array(my_tuple)\n",
    "my_array,type(my_array)"
   ]
  },
  {
   "cell_type": "code",
   "execution_count": 31,
   "id": "8e5a356f-2da0-4ca7-8e55-b1ad9566c61f",
   "metadata": {},
   "outputs": [
    {
     "data": {
      "text/plain": [
       "array([ 0,  1,  2,  3,  4,  5,  6,  7,  8,  9, 10, 11, 12, 13, 14, 15, 16,\n",
       "       17, 18, 19, 20, 21, 22, 23, 24, 25, 26, 27, 28, 29, 30, 31, 32, 33,\n",
       "       34, 35, 36, 37, 38, 39, 40, 41, 42, 43, 44, 45, 46, 47, 48, 49, 50,\n",
       "       51, 52, 53, 54, 55, 56, 57, 58, 59, 60, 61, 62, 63, 64, 65, 66, 67,\n",
       "       68, 69, 70, 71, 72, 73, 74, 75, 76, 77, 78, 79, 80, 81, 82, 83, 84,\n",
       "       85, 86, 87, 88, 89, 90, 91, 92, 93, 94, 95, 96, 97, 98, 99])"
      ]
     },
     "execution_count": 31,
     "metadata": {},
     "output_type": "execute_result"
    }
   ],
   "source": [
    "num=np.arange(100)\n",
    "num"
   ]
  },
  {
   "cell_type": "code",
   "execution_count": 33,
   "id": "ccd06565-f142-4c1c-bd91-ccf06f57f545",
   "metadata": {},
   "outputs": [
    {
     "data": {
      "text/plain": [
       "array([3, 5, 7, 9])"
      ]
     },
     "execution_count": 33,
     "metadata": {},
     "output_type": "execute_result"
    }
   ],
   "source": [
    "np.arange(3,10,2)"
   ]
  },
  {
   "cell_type": "code",
   "execution_count": 35,
   "id": "c62a9e7f-967b-4549-9953-701cd2965a8e",
   "metadata": {},
   "outputs": [
    {
     "data": {
      "text/plain": [
       "array([0., 2., 4., 6., 8.])"
      ]
     },
     "execution_count": 35,
     "metadata": {},
     "output_type": "execute_result"
    }
   ],
   "source": [
    "np.arange(0,10,2,dtype=float)"
   ]
  },
  {
   "cell_type": "code",
   "execution_count": 49,
   "id": "9ac9ab70-d167-455c-b664-9c9f8e795915",
   "metadata": {},
   "outputs": [
    {
     "data": {
      "text/plain": [
       "(array([ 10.,  20.,  30.,  40.,  50.,  60.,  70.,  80.,  90., 100.]), 10.0)"
      ]
     },
     "execution_count": 49,
     "metadata": {},
     "output_type": "execute_result"
    }
   ],
   "source": [
    "np.linspace(10,100,10,retstep=True)"
   ]
  },
  {
   "cell_type": "code",
   "execution_count": 57,
   "id": "48ab3e6e-0bb9-4a78-a343-95ca48227455",
   "metadata": {},
   "outputs": [
    {
     "data": {
      "text/plain": [
       "array([ 0,  1,  2,  3,  4,  5,  6,  7,  8,  9, 10, 11, 12, 13, 14, 15])"
      ]
     },
     "execution_count": 57,
     "metadata": {},
     "output_type": "execute_result"
    }
   ],
   "source": [
    "x=np.arange(0,16)\n",
    "x"
   ]
  },
  {
   "cell_type": "code",
   "execution_count": 59,
   "id": "a3dd7976-7f77-4457-9b95-1835a43c2e84",
   "metadata": {},
   "outputs": [
    {
     "data": {
      "text/plain": [
       "(16,)"
      ]
     },
     "execution_count": 59,
     "metadata": {},
     "output_type": "execute_result"
    }
   ],
   "source": [
    "x.shape"
   ]
  },
  {
   "cell_type": "code",
   "execution_count": 65,
   "id": "0f3e6e35-00a0-49c8-a9a7-c3aa83003ac9",
   "metadata": {},
   "outputs": [
    {
     "data": {
      "text/plain": [
       "array([[ 0,  1,  2,  3],\n",
       "       [ 4,  5,  6,  7],\n",
       "       [ 8,  9, 10, 11],\n",
       "       [12, 13, 14, 15]])"
      ]
     },
     "execution_count": 65,
     "metadata": {},
     "output_type": "execute_result"
    }
   ],
   "source": [
    "x.reshape(4,4)"
   ]
  },
  {
   "cell_type": "code",
   "execution_count": 70,
   "id": "fd209ceb-cc8e-440b-a353-1be2d2ed6e1b",
   "metadata": {},
   "outputs": [
    {
     "data": {
      "text/plain": [
       "array([[[ 0,  1],\n",
       "        [ 2,  3],\n",
       "        [ 4,  5],\n",
       "        [ 6,  7]],\n",
       "\n",
       "       [[ 8,  9],\n",
       "        [10, 11],\n",
       "        [12, 13],\n",
       "        [14, 15]]])"
      ]
     },
     "execution_count": 70,
     "metadata": {},
     "output_type": "execute_result"
    }
   ],
   "source": [
    "y=x.reshape(2,4,2)\n",
    "y"
   ]
  },
  {
   "cell_type": "code",
   "execution_count": 72,
   "id": "757c8694-ce18-4b13-b551-4f21d43b6ad9",
   "metadata": {},
   "outputs": [
    {
     "data": {
      "text/plain": [
       "(2, 4, 2)"
      ]
     },
     "execution_count": 72,
     "metadata": {},
     "output_type": "execute_result"
    }
   ],
   "source": [
    "y.shape"
   ]
  },
  {
   "cell_type": "code",
   "execution_count": 74,
   "id": "a6b2e323-3431-479f-a7d9-cbdbdebc1edf",
   "metadata": {},
   "outputs": [
    {
     "data": {
      "text/plain": [
       "array([0.7205656 , 0.06952015, 0.98140969, 0.08011515])"
      ]
     },
     "execution_count": 74,
     "metadata": {},
     "output_type": "execute_result"
    }
   ],
   "source": [
    "np.random.rand(4)"
   ]
  },
  {
   "cell_type": "code",
   "execution_count": 76,
   "id": "d4ed0651-eeb2-4774-b1b3-1ac33c740f65",
   "metadata": {},
   "outputs": [
    {
     "data": {
      "text/plain": [
       "array([[0.70603264, 0.50059964, 0.77679897, 0.66548056],\n",
       "       [0.45656229, 0.96150278, 0.28070937, 0.04556817],\n",
       "       [0.17023259, 0.07242584, 0.43630319, 0.80096502],\n",
       "       [0.60780812, 0.96656608, 0.51692084, 0.65655884],\n",
       "       [0.70828551, 0.84439684, 0.44191257, 0.99663415],\n",
       "       [0.866223  , 0.62516093, 0.05261321, 0.66776717]])"
      ]
     },
     "execution_count": 76,
     "metadata": {},
     "output_type": "execute_result"
    }
   ],
   "source": [
    "np.random.rand(6,4)"
   ]
  },
  {
   "cell_type": "code",
   "execution_count": 80,
   "id": "cb53a34c-220c-41cc-92b0-087608db5fba",
   "metadata": {},
   "outputs": [
    {
     "data": {
      "text/plain": [
       "array([116, 197, 196, 119, 100, 190, 182, 101, 176, 149, 137, 192, 190,\n",
       "       143, 173, 133, 193, 187, 101, 111])"
      ]
     },
     "execution_count": 80,
     "metadata": {},
     "output_type": "execute_result"
    }
   ],
   "source": [
    "np.random.randint(100,200,20) #100-200 er moddhe 20 ta num"
   ]
  },
  {
   "cell_type": "code",
   "execution_count": 82,
   "id": "54aceec3-861e-4d54-9da6-13d8992535a9",
   "metadata": {},
   "outputs": [
    {
     "data": {
      "text/plain": [
       "array([[149, 168, 105, 105, 184],\n",
       "       [191, 120, 102, 165, 121],\n",
       "       [154, 169, 196, 126, 142],\n",
       "       [195, 127, 140, 157, 187]])"
      ]
     },
     "execution_count": 82,
     "metadata": {},
     "output_type": "execute_result"
    }
   ],
   "source": [
    "np.random.randint(100,200,20).reshape(4,5)"
   ]
  },
  {
   "cell_type": "code",
   "execution_count": 84,
   "id": "871bc73d-11f3-48b9-9cc7-2afb80ca8d93",
   "metadata": {},
   "outputs": [
    {
     "data": {
      "text/plain": [
       "array([[506, 556,  48, 436, 282, 607, 137, 755],\n",
       "       [230,  95, 107, 730, 963, 190,   5, 405],\n",
       "       [696, 624, 538, 611, 702, 307, 796, 650],\n",
       "       [868, 204, 743, 209, 119, 618, 510,  49],\n",
       "       [231, 159, 253, 406, 476, 596, 913, 972]])"
      ]
     },
     "execution_count": 84,
     "metadata": {},
     "output_type": "execute_result"
    }
   ],
   "source": [
    "arr0=np.random.randint(low=0,high=1000,size=[5,8])\n",
    "arr0"
   ]
  },
  {
   "cell_type": "code",
   "execution_count": 86,
   "id": "1bdee643-8833-4285-a92f-bef1fddee3ec",
   "metadata": {},
   "outputs": [
    {
     "ename": "SyntaxError",
     "evalue": "invalid syntax (2053064698.py, line 1)",
     "output_type": "error",
     "traceback": [
      "\u001b[1;36m  Cell \u001b[1;32mIn[86], line 1\u001b[1;36m\u001b[0m\n\u001b[1;33m    array_ranint=np.random.randint.(0,100,10)\u001b[0m\n\u001b[1;37m                                   ^\u001b[0m\n\u001b[1;31mSyntaxError\u001b[0m\u001b[1;31m:\u001b[0m invalid syntax\n"
     ]
    }
   ],
   "source": [
    "array_ranint=np.random.randint.(0,100,10)\n",
    "array_ranint"
   ]
  },
  {
   "cell_type": "code",
   "execution_count": null,
   "id": "1d869268-3ab0-450b-b9af-ff4c22a4198c",
   "metadata": {},
   "outputs": [],
   "source": []
  }
 ],
 "metadata": {
  "kernelspec": {
   "display_name": "Python 3 (ipykernel)",
   "language": "python",
   "name": "python3"
  },
  "language_info": {
   "codemirror_mode": {
    "name": "ipython",
    "version": 3
   },
   "file_extension": ".py",
   "mimetype": "text/x-python",
   "name": "python",
   "nbconvert_exporter": "python",
   "pygments_lexer": "ipython3",
   "version": "3.12.7"
  }
 },
 "nbformat": 4,
 "nbformat_minor": 5
}
